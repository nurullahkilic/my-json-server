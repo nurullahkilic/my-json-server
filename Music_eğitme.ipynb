{
  "nbformat": 4,
  "nbformat_minor": 0,
  "metadata": {
    "colab": {
      "provenance": [],
      "authorship_tag": "ABX9TyM5RIDvmknJxSvkQWnbV2Zo",
      "include_colab_link": true
    },
    "kernelspec": {
      "name": "python3",
      "display_name": "Python 3"
    },
    "language_info": {
      "name": "python"
    }
  },
  "cells": [
    {
      "cell_type": "markdown",
      "metadata": {
        "id": "view-in-github",
        "colab_type": "text"
      },
      "source": [
        "<a href=\"https://colab.research.google.com/github/nurullahkilic/my-json-server/blob/main/Music_e%C4%9Fitme.ipynb\" target=\"_parent\"><img src=\"https://colab.research.google.com/assets/colab-badge.svg\" alt=\"Open In Colab\"/></a>"
      ]
    },
    {
      "cell_type": "code",
      "execution_count": 1,
      "metadata": {
        "id": "OjZbkCB7Wt2D"
      },
      "outputs": [],
      "source": [
        "import pandas as pd\n",
        "from sklearn.model_selection import train_test_split\n",
        "from sklearn.preprocessing import StandardScaler, LabelEncoder\n",
        "from sklearn.tree import DecisionTreeClassifier\n",
        "from sklearn.neighbors import KNeighborsClassifier\n",
        "from sklearn.neural_network import MLPClassifier\n",
        "from sklearn.metrics import accuracy_score"
      ]
    },
    {
      "cell_type": "code",
      "source": [
        "# Load datasets\n",
        "train_data = pd.read_csv('/content/train.csv')\n",
        "test_data = pd.read_csv('/content/test.csv')\n"
      ],
      "metadata": {
        "id": "dlCvuZw1XL5o"
      },
      "execution_count": 5,
      "outputs": []
    },
    {
      "cell_type": "code",
      "source": [
        "# Display dataset overview\n",
        "def dataset_overview(data, name):\n",
        "    print(f\"{name} Dataset Overview:\")\n",
        "    print(data.info())\n",
        "    print(\"\\nNumber of rows and columns:\", data.shape)\n",
        "    print(data.describe())\n",
        "    print(\"\\nMissing values:\")\n",
        "    print(data.isnull().sum())\n",
        "\n",
        "# Overview for train and test datasets\n",
        "dataset_overview(train_data, \"Train\")\n",
        "dataset_overview(test_data, \"Test\")\n"
      ],
      "metadata": {
        "colab": {
          "base_uri": "https://localhost:8080/",
          "height": 0
        },
        "id": "X51BSwtwXbPc",
        "outputId": "c7349227-899e-4baa-cdab-b44d1c976520"
      },
      "execution_count": 6,
      "outputs": [
        {
          "output_type": "stream",
          "name": "stdout",
          "text": [
            "Train Dataset Overview:\n",
            "<class 'pandas.core.frame.DataFrame'>\n",
            "RangeIndex: 17996 entries, 0 to 17995\n",
            "Data columns (total 17 columns):\n",
            " #   Column              Non-Null Count  Dtype  \n",
            "---  ------              --------------  -----  \n",
            " 0   Artist Name         17996 non-null  object \n",
            " 1   Track Name          17996 non-null  object \n",
            " 2   Popularity          17568 non-null  float64\n",
            " 3   danceability        17996 non-null  float64\n",
            " 4   energy              17996 non-null  float64\n",
            " 5   key                 15982 non-null  float64\n",
            " 6   loudness            17996 non-null  float64\n",
            " 7   mode                17996 non-null  int64  \n",
            " 8   speechiness         17996 non-null  float64\n",
            " 9   acousticness        17996 non-null  float64\n",
            " 10  instrumentalness    13619 non-null  float64\n",
            " 11  liveness            17996 non-null  float64\n",
            " 12  valence             17996 non-null  float64\n",
            " 13  tempo               17996 non-null  float64\n",
            " 14  duration_in min/ms  17996 non-null  float64\n",
            " 15  time_signature      17996 non-null  int64  \n",
            " 16  Class               17996 non-null  int64  \n",
            "dtypes: float64(12), int64(3), object(2)\n",
            "memory usage: 2.3+ MB\n",
            "None\n",
            "\n",
            "Number of rows and columns: (17996, 17)\n",
            "         Popularity  danceability        energy           key      loudness  \\\n",
            "count  17568.000000  17996.000000  17996.000000  15982.000000  17996.000000   \n",
            "mean      44.512124      0.543433      0.662777      5.952447     -7.910660   \n",
            "std       17.426928      0.166268      0.235373      3.196854      4.049151   \n",
            "min        1.000000      0.059600      0.000020      1.000000    -39.952000   \n",
            "25%       33.000000      0.432000      0.509000      3.000000     -9.538000   \n",
            "50%       44.000000      0.545000      0.700000      6.000000     -7.016000   \n",
            "75%       56.000000      0.659000      0.860000      9.000000     -5.189000   \n",
            "max      100.000000      0.989000      1.000000     11.000000      1.355000   \n",
            "\n",
            "               mode   speechiness  acousticness  instrumentalness  \\\n",
            "count  17996.000000  17996.000000  17996.000000      13619.000000   \n",
            "mean       0.636753      0.079707      0.247082          0.177562   \n",
            "std        0.480949      0.083576      0.310632          0.304048   \n",
            "min        0.000000      0.022500      0.000000          0.000001   \n",
            "25%        0.000000      0.034800      0.004300          0.000089   \n",
            "50%        1.000000      0.047400      0.081400          0.003910   \n",
            "75%        1.000000      0.083000      0.434000          0.200000   \n",
            "max        1.000000      0.955000      0.996000          0.996000   \n",
            "\n",
            "           liveness       valence         tempo  duration_in min/ms  \\\n",
            "count  17996.000000  17996.000000  17996.000000        1.799600e+04   \n",
            "mean       0.196170      0.486208    122.623294        2.007445e+05   \n",
            "std        0.159212      0.240195     29.571527        1.119891e+05   \n",
            "min        0.011900      0.018300     30.557000        5.016500e-01   \n",
            "25%        0.097500      0.297000     99.620750        1.663370e+05   \n",
            "50%        0.129000      0.481000    120.065500        2.091600e+05   \n",
            "75%        0.258000      0.672000    141.969250        2.524900e+05   \n",
            "max        1.000000      0.986000    217.416000        1.477187e+06   \n",
            "\n",
            "       time_signature         Class  \n",
            "count    17996.000000  17996.000000  \n",
            "mean         3.924039      6.695821  \n",
            "std          0.361618      3.206073  \n",
            "min          1.000000      0.000000  \n",
            "25%          4.000000      5.000000  \n",
            "50%          4.000000      8.000000  \n",
            "75%          4.000000     10.000000  \n",
            "max          5.000000     10.000000  \n",
            "\n",
            "Missing values:\n",
            "Artist Name              0\n",
            "Track Name               0\n",
            "Popularity             428\n",
            "danceability             0\n",
            "energy                   0\n",
            "key                   2014\n",
            "loudness                 0\n",
            "mode                     0\n",
            "speechiness              0\n",
            "acousticness             0\n",
            "instrumentalness      4377\n",
            "liveness                 0\n",
            "valence                  0\n",
            "tempo                    0\n",
            "duration_in min/ms       0\n",
            "time_signature           0\n",
            "Class                    0\n",
            "dtype: int64\n",
            "Test Dataset Overview:\n",
            "<class 'pandas.core.frame.DataFrame'>\n",
            "RangeIndex: 7713 entries, 0 to 7712\n",
            "Data columns (total 16 columns):\n",
            " #   Column              Non-Null Count  Dtype  \n",
            "---  ------              --------------  -----  \n",
            " 0   Artist Name         7713 non-null   object \n",
            " 1   Track Name          7713 non-null   object \n",
            " 2   Popularity          7486 non-null   float64\n",
            " 3   danceability        7713 non-null   float64\n",
            " 4   energy              7713 non-null   float64\n",
            " 5   key                 6905 non-null   float64\n",
            " 6   loudness            7713 non-null   float64\n",
            " 7   mode                7713 non-null   int64  \n",
            " 8   speechiness         7713 non-null   float64\n",
            " 9   acousticness        7713 non-null   float64\n",
            " 10  instrumentalness    5804 non-null   float64\n",
            " 11  liveness            7713 non-null   float64\n",
            " 12  valence             7713 non-null   float64\n",
            " 13  tempo               7713 non-null   float64\n",
            " 14  duration_in min/ms  7713 non-null   float64\n",
            " 15  time_signature      7713 non-null   int64  \n",
            "dtypes: float64(12), int64(2), object(2)\n",
            "memory usage: 964.2+ KB\n",
            "None\n",
            "\n",
            "Number of rows and columns: (7713, 16)\n",
            "        Popularity  danceability       energy          key     loudness  \\\n",
            "count  7486.000000   7713.000000  7713.000000  6905.000000  7713.000000   \n",
            "mean     44.968074      0.548110     0.663465     5.924692    -7.840913   \n",
            "std      17.401707      0.164906     0.234822     3.238735     3.982363   \n",
            "min       1.000000      0.000000     0.000020     1.000000   -36.544000   \n",
            "25%      33.000000      0.440000     0.510000     3.000000    -9.527000   \n",
            "50%      44.000000      0.549000     0.699000     6.000000    -6.917000   \n",
            "75%      57.000000      0.661000     0.863000     9.000000    -5.184000   \n",
            "max     100.000000      0.975000     1.000000    11.000000     0.878000   \n",
            "\n",
            "              mode  speechiness  acousticness  instrumentalness     liveness  \\\n",
            "count  7713.000000  7713.000000   7713.000000       5804.000000  7713.000000   \n",
            "mean      0.646311     0.080052      0.241400          0.170052     0.198331   \n",
            "std       0.478145     0.084228      0.308006          0.298011     0.161399   \n",
            "min       0.000000     0.000000      0.000000          0.000001     0.016900   \n",
            "25%       0.000000     0.034800      0.004600          0.000092     0.098500   \n",
            "50%       1.000000     0.047000      0.075600          0.004010     0.131000   \n",
            "75%       1.000000     0.083300      0.406000          0.165250     0.260000   \n",
            "max       1.000000     0.960000      0.995000          0.987000     0.992000   \n",
            "\n",
            "           valence        tempo  duration_in min/ms  time_signature  \n",
            "count  7713.000000  7713.000000        7.713000e+03     7713.000000  \n",
            "mean      0.489787   122.976657        1.994245e+05        3.918060  \n",
            "std       0.237996    29.723547        1.131100e+05        0.369727  \n",
            "min       0.000000     0.000000        6.874500e-01        0.000000  \n",
            "25%       0.306000    99.678000        1.655660e+05        4.000000  \n",
            "50%       0.484000   121.140000        2.088890e+05        4.000000  \n",
            "75%       0.672000   141.984000        2.506940e+05        4.000000  \n",
            "max       0.982000   249.438000        1.561133e+06        5.000000  \n",
            "\n",
            "Missing values:\n",
            "Artist Name              0\n",
            "Track Name               0\n",
            "Popularity             227\n",
            "danceability             0\n",
            "energy                   0\n",
            "key                    808\n",
            "loudness                 0\n",
            "mode                     0\n",
            "speechiness              0\n",
            "acousticness             0\n",
            "instrumentalness      1909\n",
            "liveness                 0\n",
            "valence                  0\n",
            "tempo                    0\n",
            "duration_in min/ms       0\n",
            "time_signature           0\n",
            "dtype: int64\n"
          ]
        }
      ]
    },
    {
      "cell_type": "code",
      "source": [
        "# Preprocessing\n",
        "def preprocess_data(data):\n",
        "    # Handle missing values (example: fill with mean for numerical columns)\n",
        "    for col in data.columns:\n",
        "        if data[col].isnull().sum() > 0:\n",
        "            if data[col].dtype in ['int64', 'float64']:\n",
        "                data[col] = data[col].fillna(data[col].mean())\n",
        "            else:\n",
        "                data[col] = data[col].fillna(data[col].mode()[0])\n",
        "\n",
        "    # Encoding categorical variables\n",
        "    label_encoders = {}\n",
        "    for col in data.select_dtypes(include=['object']).columns:\n",
        "        le = LabelEncoder()\n",
        "        data[col] = le.fit_transform(data[col])\n",
        "        label_encoders[col] = le\n",
        "\n",
        "    return data, label_encoders\n",
        "\n",
        "train_data, train_encoders = preprocess_data(train_data)\n",
        "test_data, test_encoders = preprocess_data(test_data)"
      ],
      "metadata": {
        "id": "Wl9l9YxGXv_l"
      },
      "execution_count": 8,
      "outputs": []
    },
    {
      "cell_type": "code",
      "source": [
        "# Split train dataset into training and validation sets\n",
        "X = train_data.iloc[:, :-1]  # Features\n",
        "y = train_data.iloc[:, -1]   # Target\n",
        "\n",
        "X_train, X_val, y_train, y_val = train_test_split(X, y, test_size=0.2, random_state=42)\n"
      ],
      "metadata": {
        "id": "KSgS5Oe-YQ2x"
      },
      "execution_count": 30,
      "outputs": []
    },
    {
      "cell_type": "code",
      "source": [
        "# Standardize features\n",
        "scaler = StandardScaler()\n",
        "X_train = scaler.fit_transform(X_train)\n",
        "X_val = scaler.transform(X_val)\n",
        "X_test = scaler.transform(test_data)"
      ],
      "metadata": {
        "id": "vEkz9OcKY9Yz"
      },
      "execution_count": 31,
      "outputs": []
    },
    {
      "cell_type": "code",
      "source": [
        "# Train and evaluate classifiers\n",
        "def train_and_evaluate_model(model, model_name):\n",
        "    model.fit(X_train, y_train)\n",
        "    y_pred = model.predict(X_val)\n",
        "    acc = accuracy_score(y_val, y_pred)\n",
        "    print(f\"Accuracy of {model_name}: {acc:.2f}\")\n",
        "    return model, acc\n"
      ],
      "metadata": {
        "id": "XNX4GeeJZB2Y"
      },
      "execution_count": 32,
      "outputs": []
    },
    {
      "cell_type": "code",
      "source": [
        "# Decision Tree\n",
        "dt_model = DecisionTreeClassifier(random_state=42)\n",
        "dt_model, dt_acc = train_and_evaluate_model(dt_model, \"Decision Tree\")"
      ],
      "metadata": {
        "colab": {
          "base_uri": "https://localhost:8080/",
          "height": 0
        },
        "id": "wnf8tLVhZHfW",
        "outputId": "a09a1d84-71e0-4fe9-ee8c-408f0a2cd74f"
      },
      "execution_count": 49,
      "outputs": [
        {
          "output_type": "stream",
          "name": "stdout",
          "text": [
            "Accuracy of Decision Tree: 0.38\n"
          ]
        }
      ]
    },
    {
      "cell_type": "code",
      "source": [
        "knn_model = KNeighborsClassifier()\n",
        "knn_model, knn_acc = train_and_evaluate_model(knn_model, \"k-Nearest Neighbors\")"
      ],
      "metadata": {
        "colab": {
          "base_uri": "https://localhost:8080/",
          "height": 0
        },
        "id": "U3OY1L8cZLFR",
        "outputId": "a7d6ed0a-ae09-4c28-b5fc-dce0fc1a3592"
      },
      "execution_count": 48,
      "outputs": [
        {
          "output_type": "stream",
          "name": "stdout",
          "text": [
            "Accuracy of k-Nearest Neighbors: 0.43\n"
          ]
        }
      ]
    },
    {
      "cell_type": "code",
      "source": [
        "# Artificial Neural Network\n",
        "ann_model = MLPClassifier(random_state=42, max_iter=300)\n",
        "ann_model, ann_acc = train_and_evaluate_model(ann_model, \"Artificial Neural Network\")"
      ],
      "metadata": {
        "colab": {
          "base_uri": "https://localhost:8080/",
          "height": 0
        },
        "id": "r4x0kzzoZN7q",
        "outputId": "bd34fb95-bac4-47a3-bd4c-af2ed4c2c437"
      },
      "execution_count": 47,
      "outputs": [
        {
          "output_type": "stream",
          "name": "stdout",
          "text": [
            "Accuracy of Artificial Neural Network: 0.53\n"
          ]
        },
        {
          "output_type": "stream",
          "name": "stderr",
          "text": [
            "/usr/local/lib/python3.10/dist-packages/sklearn/neural_network/_multilayer_perceptron.py:691: ConvergenceWarning: Stochastic Optimizer: Maximum iterations (300) reached and the optimization hasn't converged yet.\n",
            "  warnings.warn(\n"
          ]
        }
      ]
    },
    {
      "cell_type": "code",
      "source": [
        "# Compare accuracies\n",
        "models = {\"Decision Tree\": dt_acc, \"k-Nearest Neighbors\": knn_acc, \"Artificial Neural Network\": ann_acc}\n",
        "\n",
        "print(\"\\nModel Performance Comparison:\")\n",
        "for model_name, accuracy in models.items():\n",
        "    print(f\"{model_name}: {accuracy:.2f}\")"
      ],
      "metadata": {
        "colab": {
          "base_uri": "https://localhost:8080/",
          "height": 0
        },
        "id": "TkhfCKn1ZSv0",
        "outputId": "de389f8a-0980-4f1a-9691-bff3ecb416d4"
      },
      "execution_count": 46,
      "outputs": [
        {
          "output_type": "stream",
          "name": "stdout",
          "text": [
            "\n",
            "Model Performance Comparison:\n",
            "Decision Tree: 0.38\n",
            "k-Nearest Neighbors: 0.43\n",
            "Artificial Neural Network: 0.52\n"
          ]
        }
      ]
    },
    {
      "cell_type": "code",
      "source": [
        "# Final model selection and test set prediction\n",
        "modelsName = {\"Decision Tree\": \"dt_model\", \"k-Nearest Neighbors\": \"knn_acc\", \"Artificial Neural Network\": \"ann_model\"}\n",
        "best_model_name = max(models, key=models.get)\n",
        "print(f\"\\nBest Model: {best_model_name}\")\n",
        "best_model = eval(f\"{modelsName[best_model_name]}\")\n",
        "y_test_pred = best_model.predict(X_test)"
      ],
      "metadata": {
        "colab": {
          "base_uri": "https://localhost:8080/",
          "height": 0
        },
        "id": "uKyuqjkkgU9b",
        "outputId": "f2d42926-3b76-41ed-9836-61033f07b025"
      },
      "execution_count": 55,
      "outputs": [
        {
          "output_type": "stream",
          "name": "stdout",
          "text": [
            "\n",
            "Best Model: Artificial Neural Network\n"
          ]
        }
      ]
    },
    {
      "cell_type": "code",
      "source": [
        "# Save predictions\n",
        "test_data['Predictions'] = y_test_pred\n",
        "test_data.to_csv('/content/test_predictions.csv', index=False)\n",
        "print(\"Predictions saved to 'test_predictions.csv'\")"
      ],
      "metadata": {
        "colab": {
          "base_uri": "https://localhost:8080/",
          "height": 0
        },
        "id": "XfGgk9oTgXHo",
        "outputId": "190aaa25-0dee-4470-9776-3f9baac945b9"
      },
      "execution_count": 56,
      "outputs": [
        {
          "output_type": "stream",
          "name": "stdout",
          "text": [
            "Predictions saved to 'test_predictions.csv'\n"
          ]
        }
      ]
    },
    {
      "cell_type": "code",
      "source": [],
      "metadata": {
        "id": "Wnkwubv6h86P"
      },
      "execution_count": null,
      "outputs": []
    }
  ]
}